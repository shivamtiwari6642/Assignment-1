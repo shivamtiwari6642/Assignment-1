{
  "nbformat": 4,
  "nbformat_minor": 0,
  "metadata": {
    "colab": {
      "provenance": []
    },
    "kernelspec": {
      "name": "python3",
      "display_name": "Python 3"
    },
    "language_info": {
      "name": "python"
    }
  },
  "cells": [
    {
      "cell_type": "code",
      "execution_count": 1,
      "metadata": {
        "colab": {
          "base_uri": "https://localhost:8080/"
        },
        "id": "pCrID9WrSsyD",
        "outputId": "9411b6db-17dd-4de3-e51b-dd109a8b76d1"
      },
      "outputs": [
        {
          "output_type": "stream",
          "name": "stdout",
          "text": [
            "Hello, World!\n"
          ]
        }
      ],
      "source": [
        "1. # 1. Print 'Hello, World!'\n",
        "print('Hello, World!')"
      ]
    },
    {
      "cell_type": "code",
      "source": [
        "# 2. Display your name and age\n",
        "name = 'Shivam Tiwari'\n",
        "age = 31\n",
        "print(f'Name: {name}, Age: {age}')"
      ],
      "metadata": {
        "colab": {
          "base_uri": "https://localhost:8080/"
        },
        "id": "6J5_cJBXZq69",
        "outputId": "ce2a3df1-7d24-4152-ccdb-b4f4d12f701b"
      },
      "execution_count": 2,
      "outputs": [
        {
          "output_type": "stream",
          "name": "stdout",
          "text": [
            "Name: Shivam Tiwari, Age: 31\n"
          ]
        }
      ]
    },
    {
      "cell_type": "code",
      "source": [
        "# 3. Print all predefined keywords in Python\n",
        "import keyword\n",
        "print('Python Keywords:', keyword.kwlist)"
      ],
      "metadata": {
        "colab": {
          "base_uri": "https://localhost:8080/"
        },
        "id": "FOidglOjZpue",
        "outputId": "2ae84d4e-0166-41ef-d596-271ec7c0a97a"
      },
      "execution_count": 3,
      "outputs": [
        {
          "output_type": "stream",
          "name": "stdout",
          "text": [
            "Python Keywords: ['False', 'None', 'True', 'and', 'as', 'assert', 'async', 'await', 'break', 'class', 'continue', 'def', 'del', 'elif', 'else', 'except', 'finally', 'for', 'from', 'global', 'if', 'import', 'in', 'is', 'lambda', 'nonlocal', 'not', 'or', 'pass', 'raise', 'return', 'try', 'while', 'with', 'yield']\n"
          ]
        }
      ]
    },
    {
      "cell_type": "code",
      "source": [
        "# 4. Check if a word is a Python keyword\n",
        "def is_keyword(word):\n",
        "    return keyword.iskeyword(word)\n",
        "word = input('Enter a word: ')\n",
        "print(f'Is \"{word}\" a keyword? {is_keyword(word)}')"
      ],
      "metadata": {
        "id": "MFFsYgnyZ4rf"
      },
      "execution_count": null,
      "outputs": []
    },
    {
      "cell_type": "code",
      "source": [
        "# 5. Demonstrate list vs tuple immutability\n",
        "my_list = [1, 2, 3]\n",
        "my_tuple = (1, 2, 3)\n",
        "my_list[0] = 10\n",
        "print('Modified list:', my_list)\n",
        "try:\n",
        "    my_tuple[0] = 10\n",
        "except TypeError as e:\n",
        "    print('Error modifying tuple:', e)"
      ],
      "metadata": {
        "id": "DUl9Hu8kZ4u-"
      },
      "execution_count": null,
      "outputs": []
    },
    {
      "cell_type": "code",
      "source": [
        "# 6. Mutable and immutable arguments\n",
        "def modify_args(x, y):\n",
        "    x += 5\n",
        "    y.append(5)\n",
        "    print('Inside function - x:', x, ', y:', y)\n",
        "x = 10\n",
        "y = [1, 2, 3]\n",
        "modify_args(x, y)\n",
        "print('Outside function - x:', x, ', y:', y)"
      ],
      "metadata": {
        "id": "MU8LPGCrZ41n"
      },
      "execution_count": null,
      "outputs": []
    },
    {
      "cell_type": "code",
      "source": [
        "# 7. Logical operators\n",
        "x, y = True, False\n",
        "print('x and y:', x and y)\n",
        "print('x or y:', x or y)\n",
        "print('not x:', not x)"
      ],
      "metadata": {
        "id": "VC6ujdJRZ45K"
      },
      "execution_count": null,
      "outputs": []
    },
    {
      "cell_type": "code",
      "source": [
        "# 8. Type conversion\n",
        "user_input = input('Enter a value: ')\n",
        "print('As integer:', int(user_input))\n",
        "print('As float:', float(user_input))\n",
        "print('As boolean:', bool(user_input))"
      ],
      "metadata": {
        "id": "kwUUK0ErZ4-v"
      },
      "execution_count": null,
      "outputs": []
    },
    {
      "cell_type": "code",
      "source": [
        "# 9. Type casting with list elements\n",
        "my_list = ['1', '2', '3']\n",
        "int_list = list(map(int, my_list))\n",
        "print('Integer list:', int_list)"
      ],
      "metadata": {
        "id": "8PLjwz2MZ5CX"
      },
      "execution_count": null,
      "outputs": []
    },
    {
      "cell_type": "code",
      "source": [
        "# 10. Positive, negative, or zero\n",
        "num = float(input('Enter a number: '))\n",
        "if num > 0:\n",
        "    print('Positive')\n",
        "elif num < 0:\n",
        "    print('Negative')\n",
        "else:\n",
        "    print('Zero')"
      ],
      "metadata": {
        "id": "vzxZ-E_lZ5MV"
      },
      "execution_count": null,
      "outputs": []
    },
    {
      "cell_type": "code",
      "source": [
        "# 11. Print numbers from 1 to 10\n",
        "for i in range(1, 11):\n",
        "    print(i)"
      ],
      "metadata": {
        "id": "xXxfKmOJZ5Pz"
      },
      "execution_count": null,
      "outputs": []
    },
    {
      "cell_type": "code",
      "source": [
        "# 12. Sum of even numbers between 1 and 50\n",
        "even_sum = sum(num for num in range(1, 51) if num % 2 == 0)\n",
        "print('Sum of even numbers between 1 and 50:', even_sum)"
      ],
      "metadata": {
        "id": "eYNVQSueaZ6M"
      },
      "execution_count": null,
      "outputs": []
    },
    {
      "cell_type": "code",
      "source": [
        "# 13. Reverse a string using a while loop\n",
        "s = input('Enter a string: ')\n",
        "reversed_str = ''\n",
        "i = len(s) - 1\n",
        "while i >= 0:\n",
        "    reversed_str += s[i]\n",
        "    i -= 1\n",
        "print('Reversed string:', reversed_str)"
      ],
      "metadata": {
        "id": "p0eYxLUhaaBg"
      },
      "execution_count": null,
      "outputs": []
    },
    {
      "cell_type": "code",
      "source": [
        "# 14. Factorial of a number using a while loop\n",
        "n = int(input('Enter a number: '))\n",
        "factorial = 1\n",
        "while n > 0:\n",
        "    factorial *= n\n",
        "    n -= 1\n",
        "print('Factorial:', factorial)"
      ],
      "metadata": {
        "id": "W6vGT0a8aaFU"
      },
      "execution_count": null,
      "outputs": []
    },
    {
      "cell_type": "code",
      "source": [],
      "metadata": {
        "id": "Z62IAD5uaaIo"
      },
      "execution_count": null,
      "outputs": []
    }
  ]
}